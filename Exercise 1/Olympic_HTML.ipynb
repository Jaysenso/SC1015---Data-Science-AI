{
 "cells": [
  {
   "cell_type": "code",
   "execution_count": 1,
   "id": "f3a337d5",
   "metadata": {},
   "outputs": [],
   "source": [
    "import numpy as np\n",
    "import pandas as pd"
   ]
  },
  {
   "cell_type": "code",
   "execution_count": 21,
   "id": "8a579ec3",
   "metadata": {},
   "outputs": [
    {
     "name": "stdout",
     "output_type": "stream",
     "text": [
      "Data Type: <class 'list'>\n",
      "dimms:  1\n"
     ]
    }
   ],
   "source": [
    "olympic_html = pd.read_html('https://en.wikipedia.org/wiki/2016_Summer_Olympics_medal_table',match = 'Rank', skiprows = list(range(21,87)))\n",
    "print(\"Data Type:\",type(olympic_html))\n",
    "print(\"dimms: \",len(olympic_html))"
   ]
  },
  {
   "cell_type": "code",
   "execution_count": 22,
   "id": "b9044e60",
   "metadata": {},
   "outputs": [],
   "source": [
    "Top20Countries = olympic_html[0]\n",
    "Top20Countries.to_csv('Top20CountriesOlympic.csv',index = False)"
   ]
  },
  {
   "cell_type": "code",
   "execution_count": null,
   "id": "f9955ae0",
   "metadata": {},
   "outputs": [],
   "source": []
  }
 ],
 "metadata": {
  "kernelspec": {
   "display_name": "Python 3 (ipykernel)",
   "language": "python",
   "name": "python3"
  },
  "language_info": {
   "codemirror_mode": {
    "name": "ipython",
    "version": 3
   },
   "file_extension": ".py",
   "mimetype": "text/x-python",
   "name": "python",
   "nbconvert_exporter": "python",
   "pygments_lexer": "ipython3",
   "version": "3.9.13"
  }
 },
 "nbformat": 4,
 "nbformat_minor": 5
}
